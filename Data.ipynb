{
 "cells": [
  {
   "cell_type": "code",
   "execution_count": 1,
   "metadata": {},
   "outputs": [],
   "source": [
    "import numpy as np\n",
    "import pandas as pd\n",
    "import math \n",
    "import os\n",
    "os.chdir(r'C:\\Users\\user\\python')\n",
    "from finlab import Data\n",
    "\n",
    "\n",
    "def sigmoid2(n,close):\n",
    "    s = (close - close.shift(1))/close.shift(1).dropna() *60\n",
    "    s = (s).apply(lambda x :  1 / (1 + math.exp(-x)))\n",
    "    return s.shift(n)\n",
    "\n",
    "def sigmoid(n,close):\n",
    "    s = (close - close.shift(1)).dropna()\n",
    "    s = (s).apply(lambda x :  1 / (1 + math.exp(-x)))\n",
    "    return s.shift(n)\n",
    "\n",
    "def bias(n,close):\n",
    "    return close / close.rolling(n, min_periods=n).mean() -0.5\n",
    "\n",
    "def acc(n,close):\n",
    "    return close.shift(n) / (close.shift(2*n) + close) * 2  -0.5\n",
    "\n",
    "def rsv(n,close):\n",
    "    l = close.shift(2).rolling(n, min_periods=n).min()  # 阻擋重組的nan\n",
    "    h = close.shift(2).rolling(n, min_periods=n).max()\n",
    "    \n",
    "    return (close - l) / (h - l)"
   ]
  },
  {
   "cell_type": "code",
   "execution_count": 2,
   "metadata": {},
   "outputs": [],
   "source": [
    "data = Data()\n",
    "\n",
    "stock_id='0050'\n",
    "\n",
    "existday = data.get('存在日期')\n",
    "close = data.get_adj('收盤價')[existday][stock_id].dropna()\n",
    "open_ = data.get_adj('開盤價')[existday][stock_id].dropna()"
   ]
  },
  {
   "cell_type": "code",
   "execution_count": 3,
   "metadata": {},
   "outputs": [],
   "source": [
    "features = {    \n",
    "    'sigmoid2_1':sigmoid2(1,close),\n",
    "    'sigmoid2_2':sigmoid2(2,close),\n",
    "    'sigmoid2_3':sigmoid2(3,close),\n",
    "    'sigmoid2_4':sigmoid2(4,close),\n",
    "    'sigmoid2_5':sigmoid2(5,close),\n",
    "    \n",
    "    'sigmoid2_6':sigmoid2(6,close),\n",
    "    'sigmoid2_7':sigmoid2(7,close),\n",
    "    'sigmoid2_8':sigmoid2(8,close),\n",
    "    'sigmoid2_9':sigmoid2(9,close),\n",
    "    'sigmoid2_10':sigmoid2(10,close),\n",
    "    \n",
    "    'bias_10': bias(10,close),\n",
    "    'bias_20': bias(20,close),\n",
    "    'bias_60': bias(60,close),\n",
    "    'bias_120': bias(120,close),\n",
    "    'bias_240': bias(240,close),\n",
    "    \n",
    "    'acc_10': acc(10,close),\n",
    "    'acc_20': acc(20,close),\n",
    "    'acc_60': acc(60,close),\n",
    "    'acc_120': acc(120,close),\n",
    "    'acc_240': acc(240,close),\n",
    "\n",
    "    'rsv_10': rsv(10,close),\n",
    "    'rsv_20': rsv(20,close),\n",
    "    'rsv_60': rsv(60,close),\n",
    "    'rsv_120': rsv(120,close),\n",
    "    'rsv_240': rsv(240,close),}\n",
    "\n",
    "dataset=pd.DataFrame({})\n",
    "\n",
    "for name, f in features.items():    \n",
    "    dataset[name] = f \n",
    "    \n",
    "dataset['rsv_10'] =((dataset['rsv_10']+2.5)/6)\n",
    "dataset['rsv_20'] =((dataset['rsv_20']+1.5)/4)\n",
    "dataset['rsv_60'] =((dataset['rsv_60']+1)/3)\n",
    "dataset['rsv_120']=((dataset['rsv_120']+1)/3)\n",
    "dataset['rsv_240']= (dataset['rsv_240']+0.5)/2\n",
    "\n",
    "dataset = dataset.dropna()\n",
    "dataset['Adj Open'] = open_.shift(-1)\n",
    "dataset['Adj Close'] = close"
   ]
  },
  {
   "cell_type": "code",
   "execution_count": 5,
   "metadata": {},
   "outputs": [],
   "source": [
    "dataset.to_pickle(r'C:\\Users\\user\\python\\Dueling DQN\\3 Act\\data\\dqn3_1.pkl')"
   ]
  },
  {
   "cell_type": "code",
   "execution_count": null,
   "metadata": {},
   "outputs": [],
   "source": []
  }
 ],
 "metadata": {
  "kernelspec": {
   "display_name": "Python 3",
   "language": "python",
   "name": "python3"
  },
  "language_info": {
   "codemirror_mode": {
    "name": "ipython",
    "version": 3
   },
   "file_extension": ".py",
   "mimetype": "text/x-python",
   "name": "python",
   "nbconvert_exporter": "python",
   "pygments_lexer": "ipython3",
   "version": "3.6.9"
  }
 },
 "nbformat": 4,
 "nbformat_minor": 4
}
